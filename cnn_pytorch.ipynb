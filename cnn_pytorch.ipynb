{
  "nbformat": 4,
  "nbformat_minor": 0,
  "metadata": {
    "colab": {
      "provenance": []
    },
    "kernelspec": {
      "name": "python3",
      "display_name": "Python 3"
    },
    "language_info": {
      "name": "python"
    },
    "accelerator": "GPU"
  },
  "cells": [
    {
      "cell_type": "code",
      "execution_count": 29,
      "metadata": {
        "id": "YGIuwa-bxshZ"
      },
      "outputs": [],
      "source": [
        "import torch\n",
        "import torchvision\n",
        "import torch.nn as nn\n",
        "import torch.nn.functional as F"
      ]
    },
    {
      "cell_type": "code",
      "source": [
        "class Net(nn.Module):\n",
        "  def __init__(self, num_channels):\n",
        "    super(Net,self).__init__()\n",
        "    \n",
        "    self.num_channels = num_channels\n",
        "    \n",
        "    self.conv1 = nn.Conv2d(3, self.num_channels, 3, stride = 1, padding = 1)\n",
        "    self.conv2 = nn.Conv2d(self.num_channels, self.num_channels*2, 3, stride = 1, padding = 1)\n",
        "    self.conv3 = nn.Conv2d(self.num_channels*2, self.num_channels*4, 3, stride = 1, padding = 1)\n",
        "    \n",
        "    self.fc1 = nn.Linear(self.num_channels*4*8*8, self.num_channels*4)\n",
        "    self.fc2 = nn.Linear(self.num_channels*4, 6)\n",
        "    \n",
        "  def forward(self,x):\n",
        "      #Empieza 3x64x64\n",
        "      x = self.conv1(x) # num_channels x 64 x 64\n",
        "      x = F.relu(F.max_pool2d(x, 2)) # num_channels x 32 x 32\n",
        "      x = self.conv2(x) # num_channels*2 x 32 x32\n",
        "      x = F.relu(F.max_pool2d(x, 2)) #num_channels*2 x 16 x 16\n",
        "      x = self.conv3(x) # num_channels*4 x16x16\n",
        "      x = F.relu(F.max_pool2d(x, 2)) # num_channels*4 x 8 x 8\n",
        "\n",
        "      #flatten\n",
        "      x = x.view(-1, self.num_channels*4*8*8)\n",
        "\n",
        "      #fc\n",
        "      x = self.fc1(x)\n",
        "      x = F.relu(x)\n",
        "      x = self.fc2(x)\n",
        "\n",
        "      #log_softmax\n",
        "\n",
        "      x = F.log_softmax(x, dim=1)\n",
        "\n",
        "      return x             \n",
        "\n",
        "\n",
        "      \n"
      ],
      "metadata": {
        "id": "lMeDfhbQxw6h"
      },
      "execution_count": 30,
      "outputs": []
    },
    {
      "cell_type": "code",
      "source": [
        "%ls '/content/drive/MyDrive/dl-pytorch/datasets/64x64_SIGNS'"
      ],
      "metadata": {
        "colab": {
          "base_uri": "https://localhost:8080/"
        },
        "id": "c2fthKng3FR-",
        "outputId": "74915a1b-6a2f-487d-fb39-932c115e8820"
      },
      "execution_count": 3,
      "outputs": [
        {
          "output_type": "stream",
          "name": "stdout",
          "text": [
            "\u001b[0m\u001b[01;34mtest_signs\u001b[0m/  \u001b[01;34mtrain_signs\u001b[0m/  \u001b[01;34mval_signs\u001b[0m/\n"
          ]
        }
      ]
    },
    {
      "cell_type": "code",
      "source": [
        "import sys"
      ],
      "metadata": {
        "id": "_IKh9-dt3T2g"
      },
      "execution_count": 4,
      "outputs": []
    },
    {
      "cell_type": "code",
      "source": [
        "sys.path.append('/content/drive/MyDrive/dl-pytorch/')"
      ],
      "metadata": {
        "id": "o9zytQpd3VgK"
      },
      "execution_count": 5,
      "outputs": []
    },
    {
      "cell_type": "code",
      "source": [
        "from plot_helpers import imshow"
      ],
      "metadata": {
        "id": "p4AmqSNm3bym"
      },
      "execution_count": 6,
      "outputs": []
    },
    {
      "cell_type": "code",
      "source": [
        "import os\n",
        "from PIL import Image\n",
        "from torch.utils.data import Dataset, DataLoader\n",
        "\n",
        "class SIGNSDataset(Dataset):\n",
        "  def __init__(self,base_dir,split='train',transform=None):\n",
        "    path = os.path.join(base_dir,'{}_signs'.format(split))\n",
        "    files = os.listdir(path)\n",
        "\n",
        "    self.filenames = [os.path.join(path,f) for f in files if f.endswith(\".jpg\")]\n",
        "\n",
        "    self.targets = [int(f[0]) for f in files]\n",
        "    self.transform = transform\n",
        "\n",
        "  def __len__(self):\n",
        "    return len(self.filenames)\n",
        "\n",
        "  def __getitem__(self,idx):\n",
        "    image = Image.open(self.filenames[idx])\n",
        "    if self.transform :\n",
        "      image = self.transform(image)\n",
        "    return image, self.targets[idx]"
      ],
      "metadata": {
        "id": "l7ZYJap33dH4"
      },
      "execution_count": 7,
      "outputs": []
    },
    {
      "cell_type": "code",
      "source": [
        "signs = SIGNSDataset('/content/drive/MyDrive/dl-pytorch/datasets/64x64_SIGNS', split='train')"
      ],
      "metadata": {
        "id": "tN-tUA7M5lPT"
      },
      "execution_count": 8,
      "outputs": []
    },
    {
      "cell_type": "code",
      "source": [
        "len(signs)"
      ],
      "metadata": {
        "colab": {
          "base_uri": "https://localhost:8080/"
        },
        "id": "zZVwhCer5zvX",
        "outputId": "4954cc37-590a-43b4-e436-1c2f8efb296b"
      },
      "execution_count": 9,
      "outputs": [
        {
          "output_type": "execute_result",
          "data": {
            "text/plain": [
              "864"
            ]
          },
          "metadata": {},
          "execution_count": 9
        }
      ]
    },
    {
      "cell_type": "code",
      "source": [
        "signs[0][0]"
      ],
      "metadata": {
        "colab": {
          "base_uri": "https://localhost:8080/",
          "height": 81
        },
        "id": "t3SWd6_G59zI",
        "outputId": "91cd8615-adaf-401f-d903-34496ef8dd99"
      },
      "execution_count": 10,
      "outputs": [
        {
          "output_type": "execute_result",
          "data": {
            "text/plain": [
              "<PIL.JpegImagePlugin.JpegImageFile image mode=RGB size=64x64 at 0x7FF5BD5CE610>"
            ],
            "image/png": "[encoded data removed]"
          },
          "metadata": {},
          "execution_count": 10
        }
      ]
    },
    {
      "cell_type": "code",
      "source": [
        "import torchvision.transforms as transforms"
      ],
      "metadata": {
        "id": "IfY6-Hc36FUF"
      },
      "execution_count": 11,
      "outputs": []
    },
    {
      "cell_type": "code",
      "source": [
        "trainset = SIGNSDataset('/content/drive/MyDrive/dl-pytorch/datasets/64x64_SIGNS', split='train', transform=transforms.ToTensor())"
      ],
      "metadata": {
        "id": "5ndc6HWwLWVw"
      },
      "execution_count": 12,
      "outputs": []
    },
    {
      "cell_type": "code",
      "source": [
        "dataloader = DataLoader(trainset, batch_size=32)"
      ],
      "metadata": {
        "id": "UTlGf5m9Lwae"
      },
      "execution_count": 13,
      "outputs": []
    },
    {
      "cell_type": "code",
      "source": [
        "from torchvision.utils import make_grid\n",
        "for inputs, targets in dataloader:\n",
        "  out = make_grid(inputs)\n",
        "  imshow(out)\n",
        "  print(targets)\n",
        "  break"
      ],
      "metadata": {
        "colab": {
          "base_uri": "https://localhost:8080/",
          "height": 257
        },
        "id": "T2HdFbPTL9gV",
        "outputId": "13cd4e07-d10a-4024-a114-10767d2b1434"
      },
      "execution_count": 14,
      "outputs": [
        {
          "output_type": "display_data",
          "data": {
            "text/plain": [
              "<Figure size 432x288 with 1 Axes>"
            ],
            "image/png": "[encoded data removed]"
          },
          "metadata": {
            "needs_background": "light"
          }
        },
        {
          "output_type": "stream",
          "name": "stdout",
          "text": [
            "tensor([2, 1, 1, 1, 2, 3, 0, 1, 4, 3, 2, 1, 5, 4, 5, 1, 1, 4, 4, 3, 2, 4, 2, 3,\n",
            "        1, 3, 1, 0, 4, 5, 5, 0])\n"
          ]
        }
      ]
    },
    {
      "cell_type": "code",
      "source": [
        "import torch.optim as optim\n"
      ],
      "metadata": {
        "id": "CwyvhPbXMSHA"
      },
      "execution_count": 15,
      "outputs": []
    },
    {
      "cell_type": "code",
      "source": [
        "device = torch.device('cuda')"
      ],
      "metadata": {
        "id": "FtPUOOo5Mqni"
      },
      "execution_count": 16,
      "outputs": []
    },
    {
      "cell_type": "code",
      "source": [
        "net = Net(32).to(device)\n",
        "\n",
        "loss_fn = nn.NLLLoss()\n",
        "optimizer = optim.SGD(net.parameters(), lr=1e-3, momentum = 0.9)"
      ],
      "metadata": {
        "id": "-5YoqdQlMiQq"
      },
      "execution_count": 31,
      "outputs": []
    },
    {
      "cell_type": "code",
      "source": [
        "class RunningMetric():\n",
        "  def __init__(self):\n",
        "    self.S = 0\n",
        "    self.N = 0\n",
        "\n",
        "  def update(self, val, size):\n",
        "    self.S += val\n",
        "    self.N += size\n",
        "  \n",
        "  def __call__(self):\n",
        "    return self.S/float(self.N)"
      ],
      "metadata": {
        "id": "gdTV9UWmNLsB"
      },
      "execution_count": 23,
      "outputs": []
    },
    {
      "cell_type": "code",
      "source": [
        "num_epochs = 100"
      ],
      "metadata": {
        "id": "IbWiws66OWFS"
      },
      "execution_count": 24,
      "outputs": []
    },
    {
      "cell_type": "code",
      "source": [
        "for epoch in range(num_epochs):\n",
        "  print('Epoch {}/{}'.format(epoch+1, num_epochs))\n",
        "  print('-'*10)\n",
        "\n",
        "  running_loss = RunningMetric() # perdida\n",
        "  running_acc = RunningMetric() #precision\n",
        "\n",
        "  for inputs, targets in dataloader:\n",
        "    inputs, targets = inputs.to(device), targets.to(device)\n",
        "    optimizer.zero_grad()\n",
        "    \n",
        "    outputs = net(inputs)\n",
        "    _, preds = torch.max(outputs,1)\n",
        "    loss = loss_fn(outputs, targets)\n",
        "    \n",
        "    loss.backward() #magias: gradientes calculados automaticamente\n",
        "    optimizer.step() #magia2: actualiza las perillas o los parametros\n",
        "    \n",
        "    batch_size = inputs.size()[0]\n",
        "    running_loss.update(loss.item()*batch_size,\n",
        "                       batch_size)\n",
        "    running_acc.update(torch.sum(preds == targets).float(),\n",
        "                       batch_size)\n",
        "  print(\"Loss: {:.4f} Acc: {:.4f} \".format(running_loss(),\n",
        "                                          running_acc()))"
      ],
      "metadata": {
        "colab": {
          "base_uri": "https://localhost:8080/"
        },
        "id": "TFkMqKt-OfvE",
        "outputId": "27a8ff4a-df96-4fb7-e32c-46636a3f604c"
      },
      "execution_count": 32,
      "outputs": [
        {
          "output_type": "stream",
          "name": "stdout",
          "text": [
            "Epoch 1/100\n",
            "----------\n",
            "Loss: 1.7926 Acc: 0.1435 \n",
            "Epoch 2/100\n",
            "----------\n",
            "Loss: 1.7920 Acc: 0.1435 \n",
            "Epoch 3/100\n",
            "----------\n",
            "Loss: 1.7915 Acc: 0.1586 \n",
            "Epoch 4/100\n",
            "----------\n",
            "Loss: 1.7911 Acc: 0.1748 \n",
            "Epoch 5/100\n",
            "----------\n",
            "Loss: 1.7908 Acc: 0.1759 \n",
            "Epoch 6/100\n",
            "----------\n",
            "Loss: 1.7905 Acc: 0.1725 \n",
            "Epoch 7/100\n",
            "----------\n",
            "Loss: 1.7902 Acc: 0.1725 \n",
            "Epoch 8/100\n",
            "----------\n",
            "Loss: 1.7899 Acc: 0.1725 \n",
            "Epoch 9/100\n",
            "----------\n",
            "Loss: 1.7896 Acc: 0.1725 \n",
            "Epoch 10/100\n",
            "----------\n",
            "Loss: 1.7892 Acc: 0.1725 \n",
            "Epoch 11/100\n",
            "----------\n",
            "Loss: 1.7889 Acc: 0.1725 \n",
            "Epoch 12/100\n",
            "----------\n",
            "Loss: 1.7886 Acc: 0.1725 \n",
            "Epoch 13/100\n",
            "----------\n",
            "Loss: 1.7882 Acc: 0.1725 \n",
            "Epoch 14/100\n",
            "----------\n",
            "Loss: 1.7878 Acc: 0.1725 \n",
            "Epoch 15/100\n",
            "----------\n",
            "Loss: 1.7873 Acc: 0.1725 \n",
            "Epoch 16/100\n",
            "----------\n",
            "Loss: 1.7868 Acc: 0.1725 \n",
            "Epoch 17/100\n",
            "----------\n",
            "Loss: 1.7863 Acc: 0.1725 \n",
            "Epoch 18/100\n",
            "----------\n",
            "Loss: 1.7857 Acc: 0.1829 \n",
            "Epoch 19/100\n",
            "----------\n",
            "Loss: 1.7851 Acc: 0.1956 \n",
            "Epoch 20/100\n",
            "----------\n",
            "Loss: 1.7843 Acc: 0.2049 \n",
            "Epoch 21/100\n",
            "----------\n",
            "Loss: 1.7834 Acc: 0.2118 \n",
            "Epoch 22/100\n",
            "----------\n",
            "Loss: 1.7824 Acc: 0.2176 \n",
            "Epoch 23/100\n",
            "----------\n",
            "Loss: 1.7813 Acc: 0.2245 \n",
            "Epoch 24/100\n",
            "----------\n",
            "Loss: 1.7800 Acc: 0.2292 \n",
            "Epoch 25/100\n",
            "----------\n",
            "Loss: 1.7784 Acc: 0.2338 \n",
            "Epoch 26/100\n",
            "----------\n",
            "Loss: 1.7765 Acc: 0.2384 \n",
            "Epoch 27/100\n",
            "----------\n",
            "Loss: 1.7743 Acc: 0.2442 \n",
            "Epoch 28/100\n",
            "----------\n",
            "Loss: 1.7716 Acc: 0.2546 \n",
            "Epoch 29/100\n",
            "----------\n",
            "Loss: 1.7683 Acc: 0.2523 \n",
            "Epoch 30/100\n",
            "----------\n",
            "Loss: 1.7643 Acc: 0.2558 \n",
            "Epoch 31/100\n",
            "----------\n",
            "Loss: 1.7595 Acc: 0.2546 \n",
            "Epoch 32/100\n",
            "----------\n",
            "Loss: 1.7535 Acc: 0.2569 \n",
            "Epoch 33/100\n",
            "----------\n",
            "Loss: 1.7464 Acc: 0.2639 \n",
            "Epoch 34/100\n",
            "----------\n",
            "Loss: 1.7386 Acc: 0.2500 \n",
            "Epoch 35/100\n",
            "----------\n",
            "Loss: 1.7281 Acc: 0.2546 \n",
            "Epoch 36/100\n",
            "----------\n",
            "Loss: 1.7146 Acc: 0.2523 \n",
            "Epoch 37/100\n",
            "----------\n",
            "Loss: 1.6945 Acc: 0.2639 \n",
            "Epoch 38/100\n",
            "----------\n",
            "Loss: 1.6695 Acc: 0.2882 \n",
            "Epoch 39/100\n",
            "----------\n",
            "Loss: 1.6346 Acc: 0.3206 \n",
            "Epoch 40/100\n",
            "----------\n",
            "Loss: 1.5909 Acc: 0.3681 \n",
            "Epoch 41/100\n",
            "----------\n",
            "Loss: 1.5469 Acc: 0.3785 \n",
            "Epoch 42/100\n",
            "----------\n",
            "Loss: 1.5087 Acc: 0.3877 \n",
            "Epoch 43/100\n",
            "----------\n",
            "Loss: 1.4594 Acc: 0.4225 \n",
            "Epoch 44/100\n",
            "----------\n",
            "Loss: 1.3847 Acc: 0.4664 \n",
            "Epoch 45/100\n",
            "----------\n",
            "Loss: 1.3739 Acc: 0.4630 \n",
            "Epoch 46/100\n",
            "----------\n",
            "Loss: 1.3394 Acc: 0.4641 \n",
            "Epoch 47/100\n",
            "----------\n",
            "Loss: 1.2798 Acc: 0.4884 \n",
            "Epoch 48/100\n",
            "----------\n",
            "Loss: 1.2396 Acc: 0.5069 \n",
            "Epoch 49/100\n",
            "----------\n",
            "Loss: 1.1824 Acc: 0.5174 \n",
            "Epoch 50/100\n",
            "----------\n",
            "Loss: 1.1490 Acc: 0.5394 \n",
            "Epoch 51/100\n",
            "----------\n",
            "Loss: 1.0990 Acc: 0.5694 \n",
            "Epoch 52/100\n",
            "----------\n",
            "Loss: 1.0750 Acc: 0.5822 \n",
            "Epoch 53/100\n",
            "----------\n",
            "Loss: 1.0486 Acc: 0.5938 \n",
            "Epoch 54/100\n",
            "----------\n",
            "Loss: 1.0725 Acc: 0.5845 \n",
            "Epoch 55/100\n",
            "----------\n",
            "Loss: 0.9861 Acc: 0.6285 \n",
            "Epoch 56/100\n",
            "----------\n",
            "Loss: 0.9675 Acc: 0.6296 \n",
            "Epoch 57/100\n",
            "----------\n",
            "Loss: 0.8747 Acc: 0.6852 \n",
            "Epoch 58/100\n",
            "----------\n",
            "Loss: 0.8345 Acc: 0.6933 \n",
            "Epoch 59/100\n",
            "----------\n",
            "Loss: 0.8285 Acc: 0.6863 \n",
            "Epoch 60/100\n",
            "----------\n",
            "Loss: 0.7595 Acc: 0.7245 \n",
            "Epoch 61/100\n",
            "----------\n",
            "Loss: 0.7447 Acc: 0.7292 \n",
            "Epoch 62/100\n",
            "----------\n",
            "Loss: 0.7098 Acc: 0.7488 \n",
            "Epoch 63/100\n",
            "----------\n",
            "Loss: 0.6835 Acc: 0.7535 \n",
            "Epoch 64/100\n",
            "----------\n",
            "Loss: 0.6578 Acc: 0.7650 \n",
            "Epoch 65/100\n",
            "----------\n",
            "Loss: 0.6343 Acc: 0.7766 \n",
            "Epoch 66/100\n",
            "----------\n",
            "Loss: 0.6126 Acc: 0.7870 \n",
            "Epoch 67/100\n",
            "----------\n",
            "Loss: 0.5913 Acc: 0.7975 \n",
            "Epoch 68/100\n",
            "----------\n",
            "Loss: 0.5695 Acc: 0.7998 \n",
            "Epoch 69/100\n",
            "----------\n",
            "Loss: 0.5483 Acc: 0.8125 \n",
            "Epoch 70/100\n",
            "----------\n",
            "Loss: 0.5308 Acc: 0.8299 \n",
            "Epoch 71/100\n",
            "----------\n",
            "Loss: 0.5075 Acc: 0.8333 \n",
            "Epoch 72/100\n",
            "----------\n",
            "Loss: 0.4949 Acc: 0.8438 \n",
            "Epoch 73/100\n",
            "----------\n",
            "Loss: 0.4737 Acc: 0.8495 \n",
            "Epoch 74/100\n",
            "----------\n",
            "Loss: 0.4509 Acc: 0.8495 \n",
            "Epoch 75/100\n",
            "----------\n",
            "Loss: 0.4397 Acc: 0.8530 \n",
            "Epoch 76/100\n",
            "----------\n",
            "Loss: 0.4220 Acc: 0.8588 \n",
            "Epoch 77/100\n",
            "----------\n",
            "Loss: 0.4056 Acc: 0.8576 \n",
            "Epoch 78/100\n",
            "----------\n",
            "Loss: 0.3917 Acc: 0.8600 \n",
            "Epoch 79/100\n",
            "----------\n",
            "Loss: 0.3833 Acc: 0.8634 \n",
            "Epoch 80/100\n",
            "----------\n",
            "Loss: 0.3722 Acc: 0.8750 \n",
            "Epoch 81/100\n",
            "----------\n",
            "Loss: 0.3681 Acc: 0.8738 \n",
            "Epoch 82/100\n",
            "----------\n",
            "Loss: 0.3658 Acc: 0.8750 \n",
            "Epoch 83/100\n",
            "----------\n",
            "Loss: 0.3764 Acc: 0.8692 \n",
            "Epoch 84/100\n",
            "----------\n",
            "Loss: 0.4128 Acc: 0.8576 \n",
            "Epoch 85/100\n",
            "----------\n",
            "Loss: 0.4273 Acc: 0.8565 \n",
            "Epoch 86/100\n",
            "----------\n",
            "Loss: 0.3461 Acc: 0.8808 \n",
            "Epoch 87/100\n",
            "----------\n",
            "Loss: 0.3005 Acc: 0.9005 \n",
            "Epoch 88/100\n",
            "----------\n",
            "Loss: 0.2797 Acc: 0.9086 \n",
            "Epoch 89/100\n",
            "----------\n",
            "Loss: 0.2647 Acc: 0.9144 \n",
            "Epoch 90/100\n",
            "----------\n",
            "Loss: 0.2491 Acc: 0.9259 \n",
            "Epoch 91/100\n",
            "----------\n",
            "Loss: 0.2340 Acc: 0.9306 \n",
            "Epoch 92/100\n",
            "----------\n",
            "Loss: 0.2254 Acc: 0.9329 \n",
            "Epoch 93/100\n",
            "----------\n",
            "Loss: 0.2131 Acc: 0.9352 \n",
            "Epoch 94/100\n",
            "----------\n",
            "Loss: 0.2044 Acc: 0.9363 \n",
            "Epoch 95/100\n",
            "----------\n",
            "Loss: 0.1951 Acc: 0.9375 \n",
            "Epoch 96/100\n",
            "----------\n",
            "Loss: 0.1915 Acc: 0.9433 \n",
            "Epoch 97/100\n",
            "----------\n",
            "Loss: 0.1810 Acc: 0.9479 \n",
            "Epoch 98/100\n",
            "----------\n",
            "Loss: 0.1797 Acc: 0.9468 \n",
            "Epoch 99/100\n",
            "----------\n",
            "Loss: 0.1679 Acc: 0.9537 \n",
            "Epoch 100/100\n",
            "----------\n",
            "Loss: 0.1627 Acc: 0.9572 \n"
          ]
        }
      ]
    }
  ]
}